{
 "cells": [
  {
   "cell_type": "markdown",
   "metadata": {},
   "source": [
    "# Parsing AVAILABLE COV-SARS-2 sequencing metadata (ONT + Illumina WGS)\n",
    "\n",
    "### Maximillian Marin (mgmarin@g,harvard,edu)\n"
   ]
  },
  {
   "cell_type": "code",
   "execution_count": 23,
   "metadata": {},
   "outputs": [],
   "source": [
    "import pandas as pd"
   ]
  },
  {
   "cell_type": "code",
   "execution_count": 24,
   "metadata": {},
   "outputs": [
    {
     "name": "stdout",
     "output_type": "stream",
     "text": [
      "clusterConfig_Slurm_V1.json\n",
      "config_V1.txt\n",
      "CoronaSV_AssemblyBasedSVCalling_V1.smk\n",
      "CoronaSV_AssemblyBasedSVCalling_V2.smk\n",
      "DAGs\n",
      "Data\n",
      "Envs\n",
      "JupyterNotebooks\n",
      "logs\n",
      "Notes\n",
      "Plots\n",
      "README.md\n",
      "References\n",
      "runInfo_TSVs\n",
      "Scripts\n",
      "SMK_config_V1.txt\n"
     ]
    }
   ],
   "source": [
    "!ls -1 ../"
   ]
  },
  {
   "cell_type": "code",
   "execution_count": 25,
   "metadata": {},
   "outputs": [],
   "source": [
    "RunInfo_TSVs_Dir=\"../runInfo_TSVs\"\n",
    "\n",
    "CoronaSV_Metadata_V1_201013_TSV_PATH = f\"{RunInfo_TSVs_Dir}/201013_CoronaSV_Metadata_V1.tsv\""
   ]
  },
  {
   "cell_type": "code",
   "execution_count": 26,
   "metadata": {},
   "outputs": [
    {
     "name": "stdout",
     "output_type": "stream",
     "text": [
      "201013_CoronaSV_Metadata_V1.tsv\n",
      "201013_CoronaSV_Metadata_V2_Ten_Illumina_PE_Runs_Only_TestSubset.tsv\n",
      "Test_RunInfo_1Illumina_1ONT.tsv\n",
      "Test_RunInfo_1Illumina_1ONT_V2.tsv\n"
     ]
    }
   ],
   "source": [
    "!ls -1 $RunInfo_TSVs_Dir"
   ]
  },
  {
   "cell_type": "code",
   "execution_count": null,
   "metadata": {},
   "outputs": [],
   "source": []
  },
  {
   "cell_type": "code",
   "execution_count": 27,
   "metadata": {},
   "outputs": [],
   "source": [
    "CoronaSV_Metadata_All_DF = pd.read_csv(CoronaSV_Metadata_V1_201013_TSV_PATH, sep = \"\\t\")"
   ]
  },
  {
   "cell_type": "code",
   "execution_count": null,
   "metadata": {},
   "outputs": [],
   "source": []
  },
  {
   "cell_type": "code",
   "execution_count": null,
   "metadata": {},
   "outputs": [],
   "source": [
    "CoronaSV_Metadata_ONT_DNA_DF = CoronaSV_Metadata_All_DF[  (CoronaSV_Metadata_All_DF[\"Platform\"] == \"OXFORD_NANOPORE\") & (CoronaSV_Metadata_All_DF[\"Assay_Type\"] != \"RNA-Seq\") ]           "
   ]
  },
  {
   "cell_type": "code",
   "execution_count": null,
   "metadata": {},
   "outputs": [],
   "source": [
    "CoronaSV_Metadata_Illumina_PE_DF = CoronaSV_Metadata_All_DF[ (CoronaSV_Metadata_All_DF[\"LibraryLayout\"] == \"PAIRED\") & (CoronaSV_Metadata_All_DF[\"Platform\"] == \"ILLUMINA\") & (CoronaSV_Metadata_All_DF[\"Assay_Type\"] != \"RNA-Seq\") ]           \n"
   ]
  },
  {
   "cell_type": "code",
   "execution_count": null,
   "metadata": {},
   "outputs": [],
   "source": []
  },
  {
   "cell_type": "code",
   "execution_count": null,
   "metadata": {},
   "outputs": [],
   "source": []
  },
  {
   "cell_type": "code",
   "execution_count": null,
   "metadata": {},
   "outputs": [],
   "source": []
  },
  {
   "cell_type": "code",
   "execution_count": 28,
   "metadata": {},
   "outputs": [
    {
     "data": {
      "text/plain": [
       "(482, 14)"
      ]
     },
     "execution_count": 28,
     "metadata": {},
     "output_type": "execute_result"
    }
   ],
   "source": [
    "CoronaSV_Metadata_All_DF.shape"
   ]
  },
  {
   "cell_type": "code",
   "execution_count": 29,
   "metadata": {},
   "outputs": [
    {
     "data": {
      "text/html": [
       "<div>\n",
       "<style scoped>\n",
       "    .dataframe tbody tr th:only-of-type {\n",
       "        vertical-align: middle;\n",
       "    }\n",
       "\n",
       "    .dataframe tbody tr th {\n",
       "        vertical-align: top;\n",
       "    }\n",
       "\n",
       "    .dataframe thead th {\n",
       "        text-align: right;\n",
       "    }\n",
       "</style>\n",
       "<table border=\"1\" class=\"dataframe\">\n",
       "  <thead>\n",
       "    <tr style=\"text-align: right;\">\n",
       "      <th></th>\n",
       "      <th>BioProject</th>\n",
       "      <th>SRA_Study</th>\n",
       "      <th>Run</th>\n",
       "      <th>Experiment</th>\n",
       "      <th>BioSample</th>\n",
       "      <th>SRA_Sample</th>\n",
       "      <th>Assay_Type</th>\n",
       "      <th>Platform</th>\n",
       "      <th>Instrument</th>\n",
       "      <th>LibraryLayout</th>\n",
       "      <th>Library_Name</th>\n",
       "      <th>Sample_Name</th>\n",
       "      <th>Organism</th>\n",
       "      <th>isolate</th>\n",
       "    </tr>\n",
       "  </thead>\n",
       "  <tbody>\n",
       "    <tr>\n",
       "      <th>0</th>\n",
       "      <td>PRJEB33797</td>\n",
       "      <td>ERP116617</td>\n",
       "      <td>ERR3460958</td>\n",
       "      <td>ERX3482709</td>\n",
       "      <td>SAMEA5841278</td>\n",
       "      <td>ERS3629828</td>\n",
       "      <td>RNA-Seq</td>\n",
       "      <td>ILLUMINA</td>\n",
       "      <td>Illumina HiSeq 2500</td>\n",
       "      <td>SINGLE</td>\n",
       "      <td>Illumina</td>\n",
       "      <td>160_WT_II_p21_illumina</td>\n",
       "      <td>Human coronavirus 229E</td>\n",
       "      <td>NaN</td>\n",
       "    </tr>\n",
       "    <tr>\n",
       "      <th>1</th>\n",
       "      <td>PRJEB33797</td>\n",
       "      <td>ERP116617</td>\n",
       "      <td>ERR3460959</td>\n",
       "      <td>ERX3482710</td>\n",
       "      <td>SAMEA5841279</td>\n",
       "      <td>ERS3629829</td>\n",
       "      <td>RNA-Seq</td>\n",
       "      <td>ILLUMINA</td>\n",
       "      <td>Illumina HiSeq 2500</td>\n",
       "      <td>SINGLE</td>\n",
       "      <td>Illumina</td>\n",
       "      <td>SL2_BCoV_III_p12pool_illumina</td>\n",
       "      <td>Human coronavirus 229E</td>\n",
       "      <td>NaN</td>\n",
       "    </tr>\n",
       "    <tr>\n",
       "      <th>2</th>\n",
       "      <td>PRJEB33797</td>\n",
       "      <td>ERP116617</td>\n",
       "      <td>ERR3460960</td>\n",
       "      <td>ERX3482711</td>\n",
       "      <td>SAMEA5841280</td>\n",
       "      <td>ERS3629830</td>\n",
       "      <td>RNA-Seq</td>\n",
       "      <td>ILLUMINA</td>\n",
       "      <td>Illumina HiSeq 2500</td>\n",
       "      <td>SINGLE</td>\n",
       "      <td>Illumina</td>\n",
       "      <td>SL2_SARS_II_p12pool_illumina</td>\n",
       "      <td>Human coronavirus 229E</td>\n",
       "      <td>NaN</td>\n",
       "    </tr>\n",
       "    <tr>\n",
       "      <th>3</th>\n",
       "      <td>PRJEB33797</td>\n",
       "      <td>ERP116617</td>\n",
       "      <td>ERR3460961</td>\n",
       "      <td>ERX3482712</td>\n",
       "      <td>SAMEA5841281</td>\n",
       "      <td>-</td>\n",
       "      <td>RNA-Seq</td>\n",
       "      <td>OXFORD_NANOPORE</td>\n",
       "      <td>MinION</td>\n",
       "      <td>SINGLE</td>\n",
       "      <td>-</td>\n",
       "      <td>WT_direct-rna_nanopore</td>\n",
       "      <td>Human coronavirus 229E</td>\n",
       "      <td>-</td>\n",
       "    </tr>\n",
       "    <tr>\n",
       "      <th>4</th>\n",
       "      <td>PRJEB33797</td>\n",
       "      <td>ERP116617</td>\n",
       "      <td>ERR3460962</td>\n",
       "      <td>ERX3482713</td>\n",
       "      <td>SAMEA5841282</td>\n",
       "      <td>-</td>\n",
       "      <td>RNA-Seq</td>\n",
       "      <td>OXFORD_NANOPORE</td>\n",
       "      <td>MinION</td>\n",
       "      <td>SINGLE</td>\n",
       "      <td>-</td>\n",
       "      <td>SL2_direct-rna_nanopore</td>\n",
       "      <td>Human coronavirus 229E</td>\n",
       "      <td>-</td>\n",
       "    </tr>\n",
       "    <tr>\n",
       "      <th>5</th>\n",
       "      <td>PRJEB38459</td>\n",
       "      <td>ERP121890</td>\n",
       "      <td>ERR4173381</td>\n",
       "      <td>ERX4136993</td>\n",
       "      <td>SAMEA6853602</td>\n",
       "      <td>ERS4581192</td>\n",
       "      <td>RNA-Seq</td>\n",
       "      <td>ILLUMINA</td>\n",
       "      <td>Illumina NovaSeq 6000</td>\n",
       "      <td>PAIRED</td>\n",
       "      <td>unspecified</td>\n",
       "      <td>SAMEA6853602 S-42</td>\n",
       "      <td>Severe acute respiratory syndrome coronavirus 2</td>\n",
       "      <td>NaN</td>\n",
       "    </tr>\n",
       "    <tr>\n",
       "      <th>6</th>\n",
       "      <td>PRJEB38459</td>\n",
       "      <td>ERP121890</td>\n",
       "      <td>ERR4173382</td>\n",
       "      <td>ERX4136994</td>\n",
       "      <td>SAMEA6853602</td>\n",
       "      <td>ERS4581192</td>\n",
       "      <td>AMPLICON</td>\n",
       "      <td>OXFORD_NANOPORE</td>\n",
       "      <td>GridION</td>\n",
       "      <td>SINGLE</td>\n",
       "      <td>unspecified</td>\n",
       "      <td>SAMEA6853602 S-42</td>\n",
       "      <td>Severe acute respiratory syndrome coronavirus 2</td>\n",
       "      <td>NaN</td>\n",
       "    </tr>\n",
       "    <tr>\n",
       "      <th>7</th>\n",
       "      <td>PRJNA607948</td>\n",
       "      <td>SRP250294</td>\n",
       "      <td>SRR11140744</td>\n",
       "      <td>SRX7777166</td>\n",
       "      <td>SAMN14154205</td>\n",
       "      <td>SRS6189924</td>\n",
       "      <td>WGS</td>\n",
       "      <td>ILLUMINA</td>\n",
       "      <td>Illumina MiSeq</td>\n",
       "      <td>PAIRED</td>\n",
       "      <td>veroSTAT-1KO_illumina</td>\n",
       "      <td>veroSTAT-1KO_illumina</td>\n",
       "      <td>Severe acute respiratory syndrome coronavirus 2</td>\n",
       "      <td>2019-nCoV/USA-WI1/2020 Illumina replicate - Ve...</td>\n",
       "    </tr>\n",
       "    <tr>\n",
       "      <th>8</th>\n",
       "      <td>PRJNA607948</td>\n",
       "      <td>SRP250294</td>\n",
       "      <td>SRR11140745</td>\n",
       "      <td>SRX7777165</td>\n",
       "      <td>SAMN14154204</td>\n",
       "      <td>SRS6189920</td>\n",
       "      <td>WGS</td>\n",
       "      <td>OXFORD_NANOPORE</td>\n",
       "      <td>GridION</td>\n",
       "      <td>SINGLE</td>\n",
       "      <td>veroSTAT-1KO_ONT</td>\n",
       "      <td>veroSTAT-1KO_ONT</td>\n",
       "      <td>Severe acute respiratory syndrome coronavirus 2</td>\n",
       "      <td>2019-nCoV/USA-WI1/2020 ONT replicate - Vero ST...</td>\n",
       "    </tr>\n",
       "    <tr>\n",
       "      <th>9</th>\n",
       "      <td>PRJNA607948</td>\n",
       "      <td>SRP250294</td>\n",
       "      <td>SRR11140746</td>\n",
       "      <td>SRX7777164</td>\n",
       "      <td>SAMN14154203</td>\n",
       "      <td>SRS6189919</td>\n",
       "      <td>WGS</td>\n",
       "      <td>ILLUMINA</td>\n",
       "      <td>Illumina MiSeq</td>\n",
       "      <td>PAIRED</td>\n",
       "      <td>veroE6_illumina</td>\n",
       "      <td>veroE6_illumina</td>\n",
       "      <td>Severe acute respiratory syndrome coronavirus 2</td>\n",
       "      <td>2019-nCoV/USA-WI1/2020 Illumina replicate - Ve...</td>\n",
       "    </tr>\n",
       "  </tbody>\n",
       "</table>\n",
       "</div>"
      ],
      "text/plain": [
       "    BioProject  SRA_Study          Run  Experiment     BioSample  SRA_Sample  \\\n",
       "0   PRJEB33797  ERP116617   ERR3460958  ERX3482709  SAMEA5841278  ERS3629828   \n",
       "1   PRJEB33797  ERP116617   ERR3460959  ERX3482710  SAMEA5841279  ERS3629829   \n",
       "2   PRJEB33797  ERP116617   ERR3460960  ERX3482711  SAMEA5841280  ERS3629830   \n",
       "3   PRJEB33797  ERP116617   ERR3460961  ERX3482712  SAMEA5841281           -   \n",
       "4   PRJEB33797  ERP116617   ERR3460962  ERX3482713  SAMEA5841282           -   \n",
       "5   PRJEB38459  ERP121890   ERR4173381  ERX4136993  SAMEA6853602  ERS4581192   \n",
       "6   PRJEB38459  ERP121890   ERR4173382  ERX4136994  SAMEA6853602  ERS4581192   \n",
       "7  PRJNA607948  SRP250294  SRR11140744  SRX7777166  SAMN14154205  SRS6189924   \n",
       "8  PRJNA607948  SRP250294  SRR11140745  SRX7777165  SAMN14154204  SRS6189920   \n",
       "9  PRJNA607948  SRP250294  SRR11140746  SRX7777164  SAMN14154203  SRS6189919   \n",
       "\n",
       "  Assay_Type         Platform             Instrument LibraryLayout  \\\n",
       "0    RNA-Seq         ILLUMINA    Illumina HiSeq 2500        SINGLE   \n",
       "1    RNA-Seq         ILLUMINA    Illumina HiSeq 2500        SINGLE   \n",
       "2    RNA-Seq         ILLUMINA    Illumina HiSeq 2500        SINGLE   \n",
       "3    RNA-Seq  OXFORD_NANOPORE                 MinION        SINGLE   \n",
       "4    RNA-Seq  OXFORD_NANOPORE                 MinION        SINGLE   \n",
       "5    RNA-Seq         ILLUMINA  Illumina NovaSeq 6000        PAIRED   \n",
       "6   AMPLICON  OXFORD_NANOPORE                GridION        SINGLE   \n",
       "7        WGS         ILLUMINA         Illumina MiSeq        PAIRED   \n",
       "8        WGS  OXFORD_NANOPORE                GridION        SINGLE   \n",
       "9        WGS         ILLUMINA         Illumina MiSeq        PAIRED   \n",
       "\n",
       "            Library_Name                    Sample_Name  \\\n",
       "0               Illumina         160_WT_II_p21_illumina   \n",
       "1               Illumina  SL2_BCoV_III_p12pool_illumina   \n",
       "2               Illumina   SL2_SARS_II_p12pool_illumina   \n",
       "3                      -         WT_direct-rna_nanopore   \n",
       "4                      -        SL2_direct-rna_nanopore   \n",
       "5            unspecified              SAMEA6853602 S-42   \n",
       "6            unspecified              SAMEA6853602 S-42   \n",
       "7  veroSTAT-1KO_illumina          veroSTAT-1KO_illumina   \n",
       "8       veroSTAT-1KO_ONT               veroSTAT-1KO_ONT   \n",
       "9        veroE6_illumina                veroE6_illumina   \n",
       "\n",
       "                                          Organism  \\\n",
       "0                           Human coronavirus 229E   \n",
       "1                           Human coronavirus 229E   \n",
       "2                           Human coronavirus 229E   \n",
       "3                           Human coronavirus 229E   \n",
       "4                           Human coronavirus 229E   \n",
       "5  Severe acute respiratory syndrome coronavirus 2   \n",
       "6  Severe acute respiratory syndrome coronavirus 2   \n",
       "7  Severe acute respiratory syndrome coronavirus 2   \n",
       "8  Severe acute respiratory syndrome coronavirus 2   \n",
       "9  Severe acute respiratory syndrome coronavirus 2   \n",
       "\n",
       "                                             isolate  \n",
       "0                                                NaN  \n",
       "1                                                NaN  \n",
       "2                                                NaN  \n",
       "3                                                  -  \n",
       "4                                                  -  \n",
       "5                                                NaN  \n",
       "6                                                NaN  \n",
       "7  2019-nCoV/USA-WI1/2020 Illumina replicate - Ve...  \n",
       "8  2019-nCoV/USA-WI1/2020 ONT replicate - Vero ST...  \n",
       "9  2019-nCoV/USA-WI1/2020 Illumina replicate - Ve...  "
      ]
     },
     "execution_count": 29,
     "metadata": {},
     "output_type": "execute_result"
    }
   ],
   "source": [
    "CoronaSV_Metadata_All_DF.head(10)"
   ]
  },
  {
   "cell_type": "code",
   "execution_count": 30,
   "metadata": {},
   "outputs": [
    {
     "data": {
      "text/plain": [
       "OXFORD_NANOPORE    308\n",
       "ILLUMINA           174\n",
       "Name: Platform, dtype: int64"
      ]
     },
     "execution_count": 30,
     "metadata": {},
     "output_type": "execute_result"
    }
   ],
   "source": [
    "CoronaSV_Metadata_All_DF[\"Platform\"].value_counts()"
   ]
  },
  {
   "cell_type": "code",
   "execution_count": 31,
   "metadata": {},
   "outputs": [
    {
     "data": {
      "text/plain": [
       "AMPLICON            416\n",
       "WGS                  36\n",
       "Targeted-Capture     24\n",
       "RNA-Seq               6\n",
       "Name: Assay_Type, dtype: int64"
      ]
     },
     "execution_count": 31,
     "metadata": {},
     "output_type": "execute_result"
    }
   ],
   "source": [
    "CoronaSV_Metadata_All_DF[\"Assay_Type\"].value_counts()"
   ]
  },
  {
   "cell_type": "code",
   "execution_count": 54,
   "metadata": {},
   "outputs": [],
   "source": [
    "CoronaSV_Metadata_ONT_DNA_DF = CoronaSV_Metadata_All_DF[  (CoronaSV_Metadata_All_DF[\"Platform\"] == \"OXFORD_NANOPORE\") & (CoronaSV_Metadata_All_DF[\"Assay_Type\"] != \"RNA-Seq\") ]           "
   ]
  },
  {
   "cell_type": "code",
   "execution_count": 55,
   "metadata": {},
   "outputs": [
    {
     "data": {
      "text/plain": [
       "(306, 14)"
      ]
     },
     "execution_count": 55,
     "metadata": {},
     "output_type": "execute_result"
    }
   ],
   "source": [
    "CoronaSV_Metadata_ONT_DNA_DF.shape"
   ]
  },
  {
   "cell_type": "code",
   "execution_count": 56,
   "metadata": {},
   "outputs": [
    {
     "data": {
      "text/plain": [
       "AMPLICON    299\n",
       "WGS           7\n",
       "Name: Assay_Type, dtype: int64"
      ]
     },
     "execution_count": 56,
     "metadata": {},
     "output_type": "execute_result"
    }
   ],
   "source": [
    "CoronaSV_Metadata_ONT_DNA_DF[\"Assay_Type\"].value_counts()"
   ]
  },
  {
   "cell_type": "code",
   "execution_count": null,
   "metadata": {},
   "outputs": [],
   "source": []
  },
  {
   "cell_type": "code",
   "execution_count": null,
   "metadata": {},
   "outputs": [],
   "source": []
  },
  {
   "cell_type": "code",
   "execution_count": 57,
   "metadata": {},
   "outputs": [],
   "source": [
    "CoronaSV_Metadata_Illumina_PE_DF = CoronaSV_Metadata_All_DF[ (CoronaSV_Metadata_All_DF[\"LibraryLayout\"] == \"PAIRED\") & (CoronaSV_Metadata_All_DF[\"Platform\"] == \"ILLUMINA\") & (CoronaSV_Metadata_All_DF[\"Assay_Type\"] != \"RNA-Seq\") ]           \n"
   ]
  },
  {
   "cell_type": "code",
   "execution_count": 43,
   "metadata": {},
   "outputs": [
    {
     "data": {
      "text/plain": [
       "(170, 14)"
      ]
     },
     "execution_count": 43,
     "metadata": {},
     "output_type": "execute_result"
    }
   ],
   "source": [
    "CoronaSV_Metadata_Illumina_PE_DF.shape"
   ]
  },
  {
   "cell_type": "code",
   "execution_count": 47,
   "metadata": {},
   "outputs": [
    {
     "data": {
      "text/plain": [
       "ILLUMINA    170\n",
       "Name: Platform, dtype: int64"
      ]
     },
     "execution_count": 47,
     "metadata": {},
     "output_type": "execute_result"
    }
   ],
   "source": [
    "CoronaSV_Metadata_Illumina_PE_DF[\"Platform\"].value_counts()"
   ]
  },
  {
   "cell_type": "code",
   "execution_count": 48,
   "metadata": {},
   "outputs": [
    {
     "data": {
      "text/plain": [
       "AMPLICON            117\n",
       "WGS                  29\n",
       "Targeted-Capture     24\n",
       "Name: Assay_Type, dtype: int64"
      ]
     },
     "execution_count": 48,
     "metadata": {},
     "output_type": "execute_result"
    }
   ],
   "source": [
    "CoronaSV_Metadata_Illumina_PE_DF[\"Assay_Type\"].value_counts()"
   ]
  },
  {
   "cell_type": "code",
   "execution_count": 49,
   "metadata": {},
   "outputs": [
    {
     "data": {
      "text/html": [
       "<div>\n",
       "<style scoped>\n",
       "    .dataframe tbody tr th:only-of-type {\n",
       "        vertical-align: middle;\n",
       "    }\n",
       "\n",
       "    .dataframe tbody tr th {\n",
       "        vertical-align: top;\n",
       "    }\n",
       "\n",
       "    .dataframe thead th {\n",
       "        text-align: right;\n",
       "    }\n",
       "</style>\n",
       "<table border=\"1\" class=\"dataframe\">\n",
       "  <thead>\n",
       "    <tr style=\"text-align: right;\">\n",
       "      <th></th>\n",
       "      <th>BioProject</th>\n",
       "      <th>SRA_Study</th>\n",
       "      <th>Run</th>\n",
       "      <th>Experiment</th>\n",
       "      <th>BioSample</th>\n",
       "      <th>SRA_Sample</th>\n",
       "      <th>Assay_Type</th>\n",
       "      <th>Platform</th>\n",
       "      <th>Instrument</th>\n",
       "      <th>LibraryLayout</th>\n",
       "      <th>Library_Name</th>\n",
       "      <th>Sample_Name</th>\n",
       "      <th>Organism</th>\n",
       "      <th>isolate</th>\n",
       "    </tr>\n",
       "  </thead>\n",
       "  <tbody>\n",
       "    <tr>\n",
       "      <th>7</th>\n",
       "      <td>PRJNA607948</td>\n",
       "      <td>SRP250294</td>\n",
       "      <td>SRR11140744</td>\n",
       "      <td>SRX7777166</td>\n",
       "      <td>SAMN14154205</td>\n",
       "      <td>SRS6189924</td>\n",
       "      <td>WGS</td>\n",
       "      <td>ILLUMINA</td>\n",
       "      <td>Illumina MiSeq</td>\n",
       "      <td>PAIRED</td>\n",
       "      <td>veroSTAT-1KO_illumina</td>\n",
       "      <td>veroSTAT-1KO_illumina</td>\n",
       "      <td>Severe acute respiratory syndrome coronavirus 2</td>\n",
       "      <td>2019-nCoV/USA-WI1/2020 Illumina replicate - Ve...</td>\n",
       "    </tr>\n",
       "    <tr>\n",
       "      <th>9</th>\n",
       "      <td>PRJNA607948</td>\n",
       "      <td>SRP250294</td>\n",
       "      <td>SRR11140746</td>\n",
       "      <td>SRX7777164</td>\n",
       "      <td>SAMN14154203</td>\n",
       "      <td>SRS6189919</td>\n",
       "      <td>WGS</td>\n",
       "      <td>ILLUMINA</td>\n",
       "      <td>Illumina MiSeq</td>\n",
       "      <td>PAIRED</td>\n",
       "      <td>veroE6_illumina</td>\n",
       "      <td>veroE6_illumina</td>\n",
       "      <td>Severe acute respiratory syndrome coronavirus 2</td>\n",
       "      <td>2019-nCoV/USA-WI1/2020 Illumina replicate - Ve...</td>\n",
       "    </tr>\n",
       "    <tr>\n",
       "      <th>11</th>\n",
       "      <td>PRJNA607948</td>\n",
       "      <td>SRP250294</td>\n",
       "      <td>SRR11140748</td>\n",
       "      <td>SRX7777162</td>\n",
       "      <td>SAMN14154201</td>\n",
       "      <td>SRS6189918</td>\n",
       "      <td>WGS</td>\n",
       "      <td>ILLUMINA</td>\n",
       "      <td>Illumina MiSeq</td>\n",
       "      <td>PAIRED</td>\n",
       "      <td>vero76_illumina</td>\n",
       "      <td>vero76_illumina</td>\n",
       "      <td>Severe acute respiratory syndrome coronavirus 2</td>\n",
       "      <td>2019-nCoV/USA-WI1/2020 Illumina replicate - Ve...</td>\n",
       "    </tr>\n",
       "    <tr>\n",
       "      <th>13</th>\n",
       "      <td>PRJNA607948</td>\n",
       "      <td>SRP250294</td>\n",
       "      <td>SRR11140750</td>\n",
       "      <td>SRX7777160</td>\n",
       "      <td>SAMN14154199</td>\n",
       "      <td>SRS6189914</td>\n",
       "      <td>WGS</td>\n",
       "      <td>ILLUMINA</td>\n",
       "      <td>Illumina MiSeq</td>\n",
       "      <td>PAIRED</td>\n",
       "      <td>swab_illumina</td>\n",
       "      <td>swab_illumina</td>\n",
       "      <td>Severe acute respiratory syndrome coronavirus 2</td>\n",
       "      <td>2019-nCoV/USA-WI1/2020 Illumina replicate - Swab</td>\n",
       "    </tr>\n",
       "    <tr>\n",
       "      <th>17</th>\n",
       "      <td>PRJNA616147</td>\n",
       "      <td>SRP254488</td>\n",
       "      <td>SRR11514749</td>\n",
       "      <td>SRX8086361</td>\n",
       "      <td>SAMN14483190</td>\n",
       "      <td>SRS6395996</td>\n",
       "      <td>AMPLICON</td>\n",
       "      <td>ILLUMINA</td>\n",
       "      <td>Illumina iSeq 100</td>\n",
       "      <td>PAIRED</td>\n",
       "      <td>S2</td>\n",
       "      <td>EPI_ISL_417918</td>\n",
       "      <td>Severe acute respiratory syndrome coronavirus 2</td>\n",
       "      <td>SARS-CoV-2/188407/human/2020/Malaysia</td>\n",
       "    </tr>\n",
       "    <tr>\n",
       "      <th>...</th>\n",
       "      <td>...</td>\n",
       "      <td>...</td>\n",
       "      <td>...</td>\n",
       "      <td>...</td>\n",
       "      <td>...</td>\n",
       "      <td>...</td>\n",
       "      <td>...</td>\n",
       "      <td>...</td>\n",
       "      <td>...</td>\n",
       "      <td>...</td>\n",
       "      <td>...</td>\n",
       "      <td>...</td>\n",
       "      <td>...</td>\n",
       "      <td>...</td>\n",
       "    </tr>\n",
       "    <tr>\n",
       "      <th>477</th>\n",
       "      <td>PRJNA650037</td>\n",
       "      <td>SRP277377</td>\n",
       "      <td>SRR12480559</td>\n",
       "      <td>SRX8941960</td>\n",
       "      <td>SAMN15691558</td>\n",
       "      <td>SRS7197848</td>\n",
       "      <td>AMPLICON</td>\n",
       "      <td>ILLUMINA</td>\n",
       "      <td>Illumina MiSeq</td>\n",
       "      <td>PAIRED</td>\n",
       "      <td>MDHP-00036_Illumina</td>\n",
       "      <td>hCoV-19/USA/MD-HP00036/2020</td>\n",
       "      <td>Severe acute respiratory syndrome coronavirus 2</td>\n",
       "      <td>SARS-CoV-2/human/USA/MD-HP00036/2020</td>\n",
       "    </tr>\n",
       "    <tr>\n",
       "      <th>478</th>\n",
       "      <td>PRJNA650037</td>\n",
       "      <td>SRP277377</td>\n",
       "      <td>SRR12480558</td>\n",
       "      <td>SRX8941961</td>\n",
       "      <td>SAMN15691559</td>\n",
       "      <td>SRS7197849</td>\n",
       "      <td>AMPLICON</td>\n",
       "      <td>ILLUMINA</td>\n",
       "      <td>Illumina MiSeq</td>\n",
       "      <td>PAIRED</td>\n",
       "      <td>MDHP-00037_Illumina</td>\n",
       "      <td>hCoV-19/USA/MD-HP00037/2020</td>\n",
       "      <td>Severe acute respiratory syndrome coronavirus 2</td>\n",
       "      <td>SARS-CoV-2/human/USA/MD-HP00037/2020</td>\n",
       "    </tr>\n",
       "    <tr>\n",
       "      <th>479</th>\n",
       "      <td>PRJNA650037</td>\n",
       "      <td>SRP277377</td>\n",
       "      <td>SRR12480549</td>\n",
       "      <td>SRX8941962</td>\n",
       "      <td>SAMN15691544</td>\n",
       "      <td>SRS7197850</td>\n",
       "      <td>AMPLICON</td>\n",
       "      <td>ILLUMINA</td>\n",
       "      <td>Illumina MiSeq</td>\n",
       "      <td>PAIRED</td>\n",
       "      <td>MDHP-00015_Illumina</td>\n",
       "      <td>hCoV-19/USA/MD-HP00015/2020</td>\n",
       "      <td>Severe acute respiratory syndrome coronavirus 2</td>\n",
       "      <td>SARS-CoV-2/human/USA/MD-HP00015/2020</td>\n",
       "    </tr>\n",
       "    <tr>\n",
       "      <th>480</th>\n",
       "      <td>PRJNA650037</td>\n",
       "      <td>SRP277377</td>\n",
       "      <td>SRR12480557</td>\n",
       "      <td>SRX8941963</td>\n",
       "      <td>SAMN15691560</td>\n",
       "      <td>SRS7197851</td>\n",
       "      <td>AMPLICON</td>\n",
       "      <td>ILLUMINA</td>\n",
       "      <td>Illumina MiSeq</td>\n",
       "      <td>PAIRED</td>\n",
       "      <td>MDHP-00038_Illumina</td>\n",
       "      <td>hCoV-19/USA/MD-HP00038/2020</td>\n",
       "      <td>Severe acute respiratory syndrome coronavirus 2</td>\n",
       "      <td>SARS-CoV-2/human/USA/MD-HP00038/2020</td>\n",
       "    </tr>\n",
       "    <tr>\n",
       "      <th>481</th>\n",
       "      <td>PRJNA650037</td>\n",
       "      <td>SRP277377</td>\n",
       "      <td>SRR12480556</td>\n",
       "      <td>SRX8941964</td>\n",
       "      <td>SAMN15691561</td>\n",
       "      <td>SRS7197852</td>\n",
       "      <td>AMPLICON</td>\n",
       "      <td>ILLUMINA</td>\n",
       "      <td>Illumina MiSeq</td>\n",
       "      <td>PAIRED</td>\n",
       "      <td>MDHP-00039_Illumina</td>\n",
       "      <td>hCoV-19/USA/MD-HP00039/2020</td>\n",
       "      <td>Severe acute respiratory syndrome coronavirus 2</td>\n",
       "      <td>SARS-CoV-2/human/USA/MD-HP00039/2020</td>\n",
       "    </tr>\n",
       "  </tbody>\n",
       "</table>\n",
       "<p>170 rows × 14 columns</p>\n",
       "</div>"
      ],
      "text/plain": [
       "      BioProject  SRA_Study          Run  Experiment     BioSample  \\\n",
       "7    PRJNA607948  SRP250294  SRR11140744  SRX7777166  SAMN14154205   \n",
       "9    PRJNA607948  SRP250294  SRR11140746  SRX7777164  SAMN14154203   \n",
       "11   PRJNA607948  SRP250294  SRR11140748  SRX7777162  SAMN14154201   \n",
       "13   PRJNA607948  SRP250294  SRR11140750  SRX7777160  SAMN14154199   \n",
       "17   PRJNA616147  SRP254488  SRR11514749  SRX8086361  SAMN14483190   \n",
       "..           ...        ...          ...         ...           ...   \n",
       "477  PRJNA650037  SRP277377  SRR12480559  SRX8941960  SAMN15691558   \n",
       "478  PRJNA650037  SRP277377  SRR12480558  SRX8941961  SAMN15691559   \n",
       "479  PRJNA650037  SRP277377  SRR12480549  SRX8941962  SAMN15691544   \n",
       "480  PRJNA650037  SRP277377  SRR12480557  SRX8941963  SAMN15691560   \n",
       "481  PRJNA650037  SRP277377  SRR12480556  SRX8941964  SAMN15691561   \n",
       "\n",
       "     SRA_Sample Assay_Type  Platform         Instrument LibraryLayout  \\\n",
       "7    SRS6189924        WGS  ILLUMINA     Illumina MiSeq        PAIRED   \n",
       "9    SRS6189919        WGS  ILLUMINA     Illumina MiSeq        PAIRED   \n",
       "11   SRS6189918        WGS  ILLUMINA     Illumina MiSeq        PAIRED   \n",
       "13   SRS6189914        WGS  ILLUMINA     Illumina MiSeq        PAIRED   \n",
       "17   SRS6395996   AMPLICON  ILLUMINA  Illumina iSeq 100        PAIRED   \n",
       "..          ...        ...       ...                ...           ...   \n",
       "477  SRS7197848   AMPLICON  ILLUMINA     Illumina MiSeq        PAIRED   \n",
       "478  SRS7197849   AMPLICON  ILLUMINA     Illumina MiSeq        PAIRED   \n",
       "479  SRS7197850   AMPLICON  ILLUMINA     Illumina MiSeq        PAIRED   \n",
       "480  SRS7197851   AMPLICON  ILLUMINA     Illumina MiSeq        PAIRED   \n",
       "481  SRS7197852   AMPLICON  ILLUMINA     Illumina MiSeq        PAIRED   \n",
       "\n",
       "              Library_Name                  Sample_Name  \\\n",
       "7    veroSTAT-1KO_illumina        veroSTAT-1KO_illumina   \n",
       "9          veroE6_illumina              veroE6_illumina   \n",
       "11         vero76_illumina              vero76_illumina   \n",
       "13           swab_illumina                swab_illumina   \n",
       "17                      S2               EPI_ISL_417918   \n",
       "..                     ...                          ...   \n",
       "477    MDHP-00036_Illumina  hCoV-19/USA/MD-HP00036/2020   \n",
       "478    MDHP-00037_Illumina  hCoV-19/USA/MD-HP00037/2020   \n",
       "479    MDHP-00015_Illumina  hCoV-19/USA/MD-HP00015/2020   \n",
       "480    MDHP-00038_Illumina  hCoV-19/USA/MD-HP00038/2020   \n",
       "481    MDHP-00039_Illumina  hCoV-19/USA/MD-HP00039/2020   \n",
       "\n",
       "                                            Organism  \\\n",
       "7    Severe acute respiratory syndrome coronavirus 2   \n",
       "9    Severe acute respiratory syndrome coronavirus 2   \n",
       "11   Severe acute respiratory syndrome coronavirus 2   \n",
       "13   Severe acute respiratory syndrome coronavirus 2   \n",
       "17   Severe acute respiratory syndrome coronavirus 2   \n",
       "..                                               ...   \n",
       "477  Severe acute respiratory syndrome coronavirus 2   \n",
       "478  Severe acute respiratory syndrome coronavirus 2   \n",
       "479  Severe acute respiratory syndrome coronavirus 2   \n",
       "480  Severe acute respiratory syndrome coronavirus 2   \n",
       "481  Severe acute respiratory syndrome coronavirus 2   \n",
       "\n",
       "                                               isolate  \n",
       "7    2019-nCoV/USA-WI1/2020 Illumina replicate - Ve...  \n",
       "9    2019-nCoV/USA-WI1/2020 Illumina replicate - Ve...  \n",
       "11   2019-nCoV/USA-WI1/2020 Illumina replicate - Ve...  \n",
       "13    2019-nCoV/USA-WI1/2020 Illumina replicate - Swab  \n",
       "17               SARS-CoV-2/188407/human/2020/Malaysia  \n",
       "..                                                 ...  \n",
       "477               SARS-CoV-2/human/USA/MD-HP00036/2020  \n",
       "478               SARS-CoV-2/human/USA/MD-HP00037/2020  \n",
       "479               SARS-CoV-2/human/USA/MD-HP00015/2020  \n",
       "480               SARS-CoV-2/human/USA/MD-HP00038/2020  \n",
       "481               SARS-CoV-2/human/USA/MD-HP00039/2020  \n",
       "\n",
       "[170 rows x 14 columns]"
      ]
     },
     "execution_count": 49,
     "metadata": {},
     "output_type": "execute_result"
    }
   ],
   "source": [
    "CoronaSV_Metadata_Illumina_PE_DF"
   ]
  },
  {
   "cell_type": "code",
   "execution_count": null,
   "metadata": {},
   "outputs": [],
   "source": []
  },
  {
   "cell_type": "code",
   "execution_count": null,
   "metadata": {},
   "outputs": [],
   "source": []
  },
  {
   "cell_type": "code",
   "execution_count": null,
   "metadata": {},
   "outputs": [],
   "source": []
  }
 ],
 "metadata": {
  "kernelspec": {
   "display_name": "Python 3",
   "language": "python",
   "name": "python3"
  },
  "language_info": {
   "codemirror_mode": {
    "name": "ipython",
    "version": 3
   },
   "file_extension": ".py",
   "mimetype": "text/x-python",
   "name": "python",
   "nbconvert_exporter": "python",
   "pygments_lexer": "ipython3",
   "version": "3.8.6"
  }
 },
 "nbformat": 4,
 "nbformat_minor": 4
}
